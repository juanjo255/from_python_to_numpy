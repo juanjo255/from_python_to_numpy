{
 "cells": [
  {
   "attachments": {},
   "cell_type": "markdown",
   "metadata": {},
   "source": [
    "# *Indexing vs Fancy indexing*\n",
    "\n",
    "The indexing is a way to select consecutive rows and columns or individual elementes, while the fancy indexing is for access to separate elements in the matrix, this is done using list of indexes.\n",
    "\n",
    "There is another big difference between these two concepts. The first one always return a **view** while the second will return a **copy**.\n",
    "\n",
    "**What the fuck that means?**\n",
    "\n",
    "That means that if changes are done after an indexing calling those will be applied to the original matrix, on the other hand if changes are done after a fancy indexing those changes will be applied only to the submatrix called. See function index_vs_fancy() for an exemplification."
   ]
  },
  {
   "cell_type": "code",
   "execution_count": 1,
   "metadata": {},
   "outputs": [],
   "source": [
    "import numpy as np"
   ]
  },
  {
   "cell_type": "code",
   "execution_count": 16,
   "metadata": {},
   "outputs": [
    {
     "name": "stdout",
     "output_type": "stream",
     "text": [
      "**original matrix**\n",
      " [[7 2 9]\n",
      " [8 8 2]\n",
      " [7 4 4]]\n",
      "**indexing: submatrix**\n",
      " [[7 2 9]\n",
      " [8 8 2]]\n",
      "**after changes done to view. original matrix:**\n",
      " [[40  2  9]\n",
      " [ 8  8  2]\n",
      " [ 7  4  4]]\n",
      "**fancy indexing:submatrix**\n",
      " [[40  2  9]\n",
      " [ 8  8  2]]\n",
      "**after changes done to copy. original matrix:**\n",
      " [[40  2  9]\n",
      " [ 8  8  2]\n",
      " [ 7  4  4]]\n"
     ]
    }
   ],
   "source": [
    "def index_vs_fancy():\n",
    "    \n",
    "    ## indexing vs fancy indexing\n",
    "    original = np.random.randint(10,size=(3,3))\n",
    "    print(\"**original matrix**\\n\",original)\n",
    "    view = original [:2]\n",
    "    print (\"**indexing: submatrix**\\n\", view)\n",
    "    view [0,0] = 40\n",
    "    print (\"**after changes done to view. original matrix:**\\n\",original)\n",
    "    copy = original [[0,1]]\n",
    "    print (\"**fancy indexing:submatrix**\\n\", copy)\n",
    "    copy[0,0] = 50\n",
    "    print (\"**after changes done to copy. original matrix:**\\n\", original)\n",
    "index_vs_fancy()"
   ]
  },
  {
   "cell_type": "code",
   "execution_count": 2,
   "metadata": {},
   "outputs": [
    {
     "name": "stdout",
     "output_type": "stream",
     "text": [
      "[0.77625612 0.12099103]\n"
     ]
    }
   ],
   "source": [
    "def slice_a_matrix ():\n",
    "    # Playing with the indexing of numpy matrix \n",
    "    \n",
    "    ## Fancy index\n",
    "    \n",
    "    matrix=np.random.rand(3,3)\n",
    "    \n",
    "    ### Access diferent elements at the same time\n",
    "    # i.e. \n",
    "    elems=matrix[[0,2],0]\n",
    "    print(elems)\n",
    "    \n",
    "\n",
    "slice_a_matrix()"
   ]
  },
  {
   "cell_type": "code",
   "execution_count": 36,
   "metadata": {},
   "outputs": [
    {
     "data": {
      "text/plain": [
       "array([0, 1, 2, 3, 4, 5, 6, 7, 8, 9])"
      ]
     },
     "execution_count": 36,
     "metadata": {},
     "output_type": "execute_result"
    }
   ],
   "source": [
    "np.arange(10)\n"
   ]
  }
 ],
 "metadata": {
  "kernelspec": {
   "display_name": "base",
   "language": "python",
   "name": "python3"
  },
  "language_info": {
   "codemirror_mode": {
    "name": "ipython",
    "version": 3
   },
   "file_extension": ".py",
   "mimetype": "text/x-python",
   "name": "python",
   "nbconvert_exporter": "python",
   "pygments_lexer": "ipython3",
   "version": "3.10.8"
  },
  "orig_nbformat": 4,
  "vscode": {
   "interpreter": {
    "hash": "6409164d828257c8e2e2bdfad015656a77aa1c27016931bc57963ebbf93bec75"
   }
  }
 },
 "nbformat": 4,
 "nbformat_minor": 2
}
