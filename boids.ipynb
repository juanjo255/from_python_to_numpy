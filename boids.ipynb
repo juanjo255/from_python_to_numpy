{
 "cells": [
  {
   "attachments": {},
   "cell_type": "markdown",
   "metadata": {},
   "source": [
    "# **Spatial vectorization**\n",
    "\n",
    "Boids is an artificial game that simulates the flocking behavior of birds. Boids is a short for bird-oid object. This is a good example that show spatial vectorization concept that is related to how a set of data share the same computation but data is dynamic and subgroups of data are only interacting with other subgroups of the same data, so in each iteration data is in a different state interacting with other subgroup \n"
   ]
  },
  {
   "cell_type": "code",
   "execution_count": 2,
   "metadata": {},
   "outputs": [],
   "source": [
    "import numpy as np"
   ]
  },
  {
   "attachments": {},
   "cell_type": "markdown",
   "metadata": {},
   "source": [
    "# Primer paso\n",
    "\n",
    "Creamos los arrays que contendran a todos nuestros boids. Utilizamos 200 boids. Column 0 will be X data and column 1 will be Y data."
   ]
  },
  {
   "cell_type": "code",
   "execution_count": 15,
   "metadata": {},
   "outputs": [
    {
     "data": {
      "text/plain": [
       "array([[0., 0.],\n",
       "       [0., 0.],\n",
       "       [0., 0.],\n",
       "       [0., 0.],\n",
       "       [0., 0.]], dtype=float32)"
      ]
     },
     "execution_count": 15,
     "metadata": {},
     "output_type": "execute_result"
    }
   ],
   "source": [
    "\n",
    "n = 5\n",
    "velocity = np.zeros((n, 2), dtype=np.float32)\n",
    "position = np.zeros((n, 2), dtype=np.float32)\n",
    "position"
   ]
  },
  {
   "attachments": {},
   "cell_type": "markdown",
   "metadata": {},
   "source": [
    "# Segundo paso\n",
    "\n",
    "Calculamos las distancias con los vecinos. Es simple geometria. Lo que determina la distance entre los puntos es la hipotenusa, asi pues, la formula es **raiz((X2-X1)+(Y2-Y1))**.\n",
    "\n",
    "Entonces, primero se crean matrices en las que cada una presenta X o Y restado por cada uno de los mismo X o Y en la matriz. ejemplo,\n",
    "\n",
    "[x1,x2] - [x1,x2] = [\n",
    "                    [x1-x1, x2-x1],\n",
    "                    [x1-x2, x2-x2]\n",
    "                                ]\n",
    "\n",
    "Luego, una vez se haya restado, en la variable **distance** se calcula y almacena la hipotenusa, eso es lo que hace np.hypot(), hallar la hipotenusa entre x1 y y1.\n",
    "\n",
    "***En la matriz resultante cada fila es un boid y su respectiva distancia con los demas boids.***"
   ]
  },
  {
   "cell_type": "code",
   "execution_count": null,
   "metadata": {},
   "outputs": [],
   "source": [
    "dx = np.subtract.outer(position[:, 0], position[:, 0])\n",
    "dy = np.subtract.outer(position[:, 1], position[:, 1])\n",
    "distance = np.hypot(dx, dy)"
   ]
  },
  {
   "attachments": {},
   "cell_type": "markdown",
   "metadata": {},
   "source": [
    "# Tercer paso\n",
    "\n",
    "Una vez calculadas las distancias de cada boid, definimos un radio. Abajo entramos que nos interesa aquellos que esten a una distancia menor de 25 y de 50, pero estos tienen que ser mayores de 0 porq el cero corresponde al boid itself. Ya entonces podemos sumar los vecinos que tenemos para cada boid, si el numero de vecinos es cero, se remplaza por 1, ya que mas adelante se usara este conteo en una division."
   ]
  },
  {
   "cell_type": "code",
   "execution_count": null,
   "metadata": {},
   "outputs": [],
   "source": [
    "# RADIO\n",
    "mask_0 = (distance > 0)\n",
    "mask_1 = (distance < 25)\n",
    "mask_2 = (distance < 50)\n",
    "mask_1 *= mask_0\n",
    "mask_2 *= mask_0\n",
    "mask_3 = mask_2\n",
    "\n",
    "# SUM NEIGHBOURS\n",
    "mask_1_count = np.maximum(mask_1.sum(axis=1), 1)\n",
    "mask_2_count = np.maximum(mask_2.sum(axis=1), 1)\n",
    "mask_3_count = mask_2_count"
   ]
  },
  {
   "attachments": {},
   "cell_type": "markdown",
   "metadata": {},
   "source": [
    "# Cuarto paso\n",
    "\n",
    "Escribimos las reglas del juego:\n",
    "\n",
    "***Alignment***: dirección hacia el rumbo medio de los miembros de la bandada local.\n",
    "\n",
    "***Cohesion***: dirección para moverse hacia la posición media (centro de masa) de los miembros de la bandada local.\n",
    "\n",
    "***Separation***: maniobra para evitar la aglomeración de compañeros de bandada locales.\n"
   ]
  },
  {
   "cell_type": "code",
   "execution_count": null,
   "metadata": {},
   "outputs": [],
   "source": [
    "#ALIGNMENT\n",
    "# Compute the average velocity of local neighbours\n",
    "target = np.dot(mask, velocity)/count.reshape(n, 1)\n",
    "\n",
    "# Normalize the result\n",
    "norm = np.sqrt((target*target).sum(axis=1)).reshape(n, 1)\n",
    "target *= np.divide(target, norm, out=target, where=norm != 0)\n",
    "\n",
    "# Alignment at constant speed\n",
    "target *= max_velocity\n",
    "\n",
    "# Compute the resulting steering\n",
    "alignment = target - velocity\n",
    "\n"
   ]
  },
  {
   "cell_type": "code",
   "execution_count": null,
   "metadata": {},
   "outputs": [],
   "source": [
    "#COHESION\n",
    "\n",
    "# Compute the gravity center of local neighbours\n",
    "center = np.dot(mask, position)/count.reshape(n, 1)\n",
    "\n",
    "# Compute direction toward the center\n",
    "target = center - position\n",
    "\n",
    "# Normalize the result\n",
    "norm = np.sqrt((target*target).sum(axis=1)).reshape(n, 1)\n",
    "target *= np.divide(target, norm, out=target, where=norm != 0)\n",
    "\n",
    "# Cohesion at constant speed (max_velocity)\n",
    "target *= max_velocity\n",
    "\n",
    "# Compute the resulting steering\n",
    "cohesion = target - velocity"
   ]
  },
  {
   "cell_type": "code",
   "execution_count": null,
   "metadata": {},
   "outputs": [],
   "source": [
    "#SEPARATION\n",
    "\n",
    "# Compute the repulsion force from local neighbours\n",
    "repulsion = np.dstack((dx, dy))\n",
    "\n",
    "# Force is inversely proportional to the distance\n",
    "repulsion = np.divide(repulsion, distance.reshape(n, n, 1)**2, out=repulsion,\n",
    "                        where=distance.reshape(n, n, 1) != 0)\n",
    "\n",
    "# Compute direction away from others\n",
    "target = (repulsion*mask.reshape(n, n, 1)).sum(axis=1)/count.reshape(n, 1)\n",
    "\n",
    "# Normalize the result\n",
    "norm = np.sqrt((target*target).sum(axis=1)).reshape(n, 1)\n",
    "target *= np.divide(target, norm, out=target, where=norm != 0)\n",
    "\n",
    "# Separation at constant speed (max_velocity)\n",
    "target *= max_velocity\n",
    "\n",
    "# Compute the resulting steering\n",
    "separation = target - velocity"
   ]
  }
 ],
 "metadata": {
  "kernelspec": {
   "display_name": "base",
   "language": "python",
   "name": "python3"
  },
  "language_info": {
   "codemirror_mode": {
    "name": "ipython",
    "version": 3
   },
   "file_extension": ".py",
   "mimetype": "text/x-python",
   "name": "python",
   "nbconvert_exporter": "python",
   "pygments_lexer": "ipython3",
   "version": "3.10.8"
  },
  "orig_nbformat": 4,
  "vscode": {
   "interpreter": {
    "hash": "6409164d828257c8e2e2bdfad015656a77aa1c27016931bc57963ebbf93bec75"
   }
  }
 },
 "nbformat": 4,
 "nbformat_minor": 2
}
