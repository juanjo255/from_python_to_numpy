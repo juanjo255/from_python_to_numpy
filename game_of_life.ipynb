{
 "cells": [
  {
   "attachments": {},
   "cell_type": "markdown",
   "metadata": {},
   "source": [
    "# Uniform Vectorization\n",
    "\n",
    "Es la forma más simple de vectorizacion, donde a cada dato se le realiza el mismo procedimiento.\n",
    "Para ejemplificarlo, se realiza un ejemplo con ***Game of life*** que un Zero-player game, en el que se inserta una matriz de **0** y **1**, indicando con las celdas **muertas** (0) y **vivas** (1). A partir de alli el juego evoluciona infinitamente siguiendo un patron glider (Cada 4 iteraciones regresa a su forma inicial).\n",
    "\n",
    "El juego posee unas reglas para su dicha evolución que son:\n",
    "\n",
    ">**1. Cualquier celda viva con menos de dos vecinos vivos muere, como por necesidades causadas por la falta de población.** <br/>\n",
    "**2. Cualquier celda viva con más de tres vecinos vivos muere, como por hacinamiento.**<br/>\n",
    "**3. Cualquier celda viva con dos o tres vecinos vivos vive, sin cambios, hasta la próxima generación.**<br/>\n",
    "**4. Cualquier celda muerta con exactamente tres vecinos vivos se convierte en una celda viva.**\n",
    "\n",
    "Adicionalmente, por facilidad se dejan los bordes no se toman en cuenta, por lo que se deja en 0.\n",
    "\n",
    "<small>Extraido del libro [From Python to Numpy](https://www.labri.fr/perso/nrougier/from-python-to-numpy/#uniform-vectorization).</small>"
   ]
  },
  {
   "cell_type": "code",
   "execution_count": 13,
   "metadata": {},
   "outputs": [
    {
     "data": {
      "text/plain": [
       "array([0])"
      ]
     },
     "execution_count": 13,
     "metadata": {},
     "output_type": "execute_result"
    }
   ],
   "source": [
    "import numpy as np\n",
    "# @title Matriz inicial\n",
    "Z=     [[0,0,0,0,0,0],\n",
    "        [0,0,0,1,0,0],\n",
    "        [0,1,0,1,0,0],\n",
    "        [0,0,1,1,0,0],\n",
    "        [0,0,0,0,0,0],\n",
    "        [0,0,0,0,0,0]]\n",
    "Z = np.array(Z)\n",
    "# Matriz inicial con ceros para agregar la cantidad de vecinos de cada celda en Z\n",
    "N = np.zeros(Z.shape, dtype=int)"
   ]
  },
  {
   "cell_type": "code",
   "execution_count": null,
   "metadata": {
    "tags": []
   },
   "outputs": [],
   "source": [
    "# @title Contar vecinos\n",
    "\n",
    "# Se cuentan los vecinos (der, izq y diagonal) de cada celda\n",
    "# Y se agregan en N\n",
    "N[1:-1,1:-1] += (Z[ :-2, :-2] + Z[ :-2,1:-1] + Z[ :-2,2:] +\n",
    "                Z[1:-1, :-2]                + Z[1:-1,2:] +\n",
    "                Z[2: , :-2] + Z[2: ,1:-1] + Z[2: ,2:])\n"
   ]
  },
  {
   "cell_type": "code",
   "execution_count": null,
   "metadata": {},
   "outputs": [],
   "source": [
    "# @title Ejecutar reglas de juego\n",
    "\n",
    "#### PRIMERA FORMA DE APLICAR REGLAS ####\n",
    "\n",
    "# Flatten arrays\n",
    "# Se aplanan por facilidad ya que solo nos interesa encontrar la celda especifica en Z y N\n",
    "# # N_ = N.ravel()\n",
    "# # Z_ = Z.ravel()\n",
    "\n",
    "# Esta funcion permite encontrar los indices de las celdas que cumplen con la condicion\n",
    "# Busca para N y Z simultaneamente los mismos indices, por ende deben ser arrays del mismo largo. \n",
    "# # R1 = np.argwhere( (Z_==1) & (N_ < 2) )\n",
    "# # R2 = np.argwhere( (Z_==1) & (N_ > 3) )\n",
    "# # R3 = np.argwhere( (Z_==1) & ((N_==2) | (N_==3)) )\n",
    "# # R4 = np.argwhere( (Z_==0) & (N_==3) )\n",
    "\n",
    "# Set new values according to rules\n",
    "# Any live cell with fewer than two live neighbours dies, as if by needs caused by underpopulation.\n",
    "# # Z_[R1] = 0\n",
    "# # # Any live cell with more than three live neighbours dies, as if by overcrowding.\n",
    "# # Z_[R2] = 0\n",
    "# # # Any live cell with two or three live neighbours lives, unchanged, to the next generation.\n",
    "# # Z_[R3] = Z_[R3]\n",
    "# # # Any dead cell with exactly three live neighbours becomes a live cell.\n",
    "# # Z_[R4] = 1\n",
    "\n",
    "# Make sure borders stay null\n",
    "# # Z[0,:] = Z[-1,:] = Z[:,0] = Z[:,-1] = 0\n",
    "\n",
    "#### SEGUNDA FORMA DE APLICAR LAS REGLAS ####\n",
    "\n",
    "\n",
    "# Replacement of arg.where function for a simpler and faster one\n",
    "# Cells that change from 0 to 1\n",
    "birth = (N==3)[1:-1,1:-1] & (Z[1:-1,1:-1]==0)\n",
    "\n",
    "# Cells that stay at 1\n",
    "# Can be reduce to N>=2\n",
    "survive = ((N==2) | (N==3))[1:-1,1:-1] & (Z[1:-1,1:-1]==1)\n",
    "\n",
    "## Initicialize all in zero\n",
    "Z[...] = 0\n",
    "## Add 1 to the ones that gonna change from 0 to 1 or gonna stay at 1\n",
    "Z[1:-1,1:-1][birth | survive] = 1"
   ]
  },
  {
   "cell_type": "code",
   "execution_count": null,
   "metadata": {},
   "outputs": [],
   "source": [
    "## ANIMACION FINAL USANDO FUNCANIMATION DE MATPLOTLIB\n"
   ]
  }
 ],
 "metadata": {
  "kernelspec": {
   "display_name": "Python 3",
   "language": "python",
   "name": "python3"
  },
  "language_info": {
   "codemirror_mode": {
    "name": "ipython",
    "version": 3
   },
   "file_extension": ".py",
   "mimetype": "text/x-python",
   "name": "python",
   "nbconvert_exporter": "python",
   "pygments_lexer": "ipython3",
   "version": "3.8.10"
  },
  "orig_nbformat": 4,
  "vscode": {
   "interpreter": {
    "hash": "31f2aee4e71d21fbe5cf8b01ff0e069b9275f58929596ceb00d14d90e3e16cd6"
   }
  }
 },
 "nbformat": 4,
 "nbformat_minor": 2
}
